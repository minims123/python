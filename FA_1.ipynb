{
  "nbformat": 4,
  "nbformat_minor": 0,
  "metadata": {
    "colab": {
      "provenance": []
    },
    "kernelspec": {
      "name": "python3",
      "display_name": "Python 3"
    },
    "language_info": {
      "name": "python"
    }
  },
  "cells": [
    {
      "cell_type": "code",
      "execution_count": 6,
      "metadata": {
        "colab": {
          "base_uri": "https://localhost:8080/"
        },
        "id": "-O43af4MIAjk",
        "outputId": "134b7c3a-9cc2-4179-de08-ded0ca290990"
      },
      "outputs": [
        {
          "output_type": "stream",
          "name": "stdout",
          "text": [
            "ENTER THE FIRST NUMBER : 45\n",
            "ENTER THE SECOND NUMBER : 45\n",
            "ENTER 1 TO ADDITION : \n",
            "ENTER 2 TO SUBTRACTION : \n",
            "ENTER 3 TO MULTIPLICATION : \n",
            "ENTER 4 TO DIVISION : \n",
            "ENTER 5 TO MODULO : \n",
            "ENTER 0 TO EXIT : \n",
            "Enter the Choice : 1\n",
            "45 + 45 = 90\n",
            "Enter the Choice : 3\n",
            "45 * 45 = 2025\n",
            "Enter the Choice : 2\n",
            "45 - 45 = 0\n",
            "Enter the Choice : 4\n",
            "45 / 45 = 1.0\n",
            "Enter the Choice : 5\n",
            "45 // 45 = 1\n",
            "Enter the Choice : 6\n",
            "EXIT\n"
          ]
        }
      ],
      "source": [
        "#1. A. Create a simple calculator with the functionalities specified below\n",
        "#i) Perform Addition, Subtraction, Multiplication, Division and modulo operation when the user provides a valid input of numbers, if not display invalid.\n",
        "#ii) The above program must be created with the menu driven approach by requesting the nature of functions to be performed as input from the user\n",
        "#iii) Repeat the process until the user type 0 to exit.\n",
        "\n",
        "\n",
        "\n",
        "def addition(a,b):\n",
        " return a+b\n",
        "def subtraction(a,b):\n",
        " return a-b\n",
        "def multiplication(a,b):\n",
        " return a*b\n",
        "def division(a,b):\n",
        " return a/b\n",
        "def modulo(a,b):\n",
        " return a//b\n",
        "a=int(input(\"ENTER THE FIRST NUMBER : \"))\n",
        "b=int(input(\"ENTER THE SECOND NUMBER : \"))\n",
        "print(\"ENTER 1 TO ADDITION : \")\n",
        "print(\"ENTER 2 TO SUBTRACTION : \")\n",
        "print(\"ENTER 3 TO MULTIPLICATION : \")\n",
        "print(\"ENTER 4 TO DIVISION : \")\n",
        "print(\"ENTER 5 TO MODULO : \")\n",
        "print(\"ENTER 0 TO EXIT : \")\n",
        "while True:\n",
        " choice =int(input(\"Enter the Choice : \"))\n",
        " if choice==1:\n",
        "  print(a,\"+\",b,\"=\",addition(a,b))\n",
        " elif choice==2:\n",
        "  print(a,\"-\",b,\"=\",subtraction(a,b))\n",
        " elif choice==3:\n",
        "  print(a,\"*\",b,\"=\",multiplication(a,b))\n",
        " elif choice==4:\n",
        "  print(a,\"/\",b,\"=\",division(a,b))\n",
        " elif choice==5:\n",
        "  print(a,\"//\",b,\"=\",modulo(a,b))\n",
        " elif choice==6:\n",
        "  print(\"EXIT\")\n",
        "  break\n",
        " else:\n",
        "  print(\"INVALID\")"
      ]
    },
    {
      "cell_type": "code",
      "source": [
        "#B.PROGRAM CODE:\n",
        "print(\"Monthly Budget\")\n",
        "Income = float(input(\"Enter your monthly Income :\"))\n",
        "print(\"Total income : \",str(Income))\n",
        "print(\"Montly Expense\")\n",
        "def expenses():\n",
        " Rent = float(input(\"Enter your monthly Rent expenses : \"))\n",
        " Food = float(input(\"Enter your food expense per mealtime : \"))\n",
        " Food_tot= (Food*3)*30\n",
        " print(Food_tot)\n",
        " Entertainment = float(input(\"Enter your monthly Entertainment expenses : \"))\n",
        " Unforeseen_Expenses = float(input(\"Enter your monthly Unforeseen expenses : \"))\n",
        "\n",
        " total_expenses = Rent + Food_tot + Entertainment + Unforeseen_Expenses\n",
        " return total_expenses\n",
        "expense_total = expenses()\n",
        "print(\"Total expenses in Rupees Rs.\" +str(expense_total))\n",
        "print(\"Total expenses in Dollar $\" +str(expense_total/80))\n",
        "4\n",
        "savings = Income-expense_total\n",
        "if savings >=0:\n",
        " print(\"Amount transferred to Bank Account:\" +str(savings))\n",
        "else:\n",
        " print(\"No Savings\" +str(savings) +'negative')"
      ],
      "metadata": {
        "colab": {
          "base_uri": "https://localhost:8080/"
        },
        "id": "Ix6TciGjIUZp",
        "outputId": "7b090b25-295f-4fd5-d3ac-425ce480d292"
      },
      "execution_count": 7,
      "outputs": [
        {
          "output_type": "stream",
          "name": "stdout",
          "text": [
            "Monthly Budget\n",
            "Enter your monthly Income :60000\n",
            "Total income :  60000.0\n",
            "Montly Expense\n",
            "Enter your monthly Rent expenses : 35000\n",
            "Enter your food expense per mealtime : 80\n",
            "7200.0\n",
            "Enter your monthly Entertainment expenses : 600\n",
            "Enter your monthly Unforeseen expenses : 2500\n",
            "Total expenses in Rupees Rs.45300.0\n",
            "Total expenses in Dollar $566.25\n",
            "Amount transferred to Bank Account:14700.0\n"
          ]
        }
      ]
    },
    {
      "cell_type": "code",
      "source": [
        "#C. A shop charges Rs. 60 per kg of apple and Rs. 70 per kg of orange. The shop offers  a\n",
        "#discount when a customer buys both apple and orange of 1kg each and charges\n",
        "#Rs. 80 for every 2 Kgs of apple and Rs. 120 for every 2 Kgs of Orange. Write a program\n",
        "#to compute the total amount that a customer must pay, given the number of kgs of\n",
        "#apple and/or orange\n",
        "#Input: The sequence of inputs should be the number of kgs of apple followed by\n",
        "#number of kgs of orange\n",
        "#Output: The total amount to be paid by the customer, rounded off to 2 decimal places.\n",
        "#PROGRAM CODE:\n",
        "apple=60\n",
        "apple_kg = int(input(\"Enter apple kgs: \"))\n",
        "orange=70\n",
        "orange_kg = int(input(\"Enter orange kgs: \"))\n",
        "discount=0.10\n",
        "if (apple_kg>=2 or orange_kg>=2):\n",
        " x=apple_kg/2\n",
        " y=apple_kg%2\n",
        " price_apple=(x*80+y*60)\n",
        " p=orange_kg/2\n",
        " s=orange_kg%2\n",
        " price_orange=(p*120+s*70)\n",
        " print(\"Total price of apple RS:\",round(price_apple,2))\n",
        " print(\"The price of orange RS:\",round(price_orange,2))\n",
        "else:\n",
        " apple_price=apple_kg*60*0.10\n",
        " orange_price=orange_kg*70*0.1\n",
        " print(\"the price of apple RS:\",round(apple_price),2)\n",
        " print(\"The price of orange RS:\",round(orange_price),2)\n"
      ],
      "metadata": {
        "colab": {
          "base_uri": "https://localhost:8080/"
        },
        "id": "5xBDUSpKLE0l",
        "outputId": "d8ddcc0a-4f0b-4d74-aa7e-20bf3bf1df3e"
      },
      "execution_count": 8,
      "outputs": [
        {
          "output_type": "stream",
          "name": "stdout",
          "text": [
            "Enter apple kgs: 3\n",
            "Enter orange kgs: 3\n",
            "Total price of apple RS: 180.0\n",
            "The price of orange RS: 250.0\n"
          ]
        }
      ]
    },
    {
      "cell_type": "code",
      "source": [
        "#B. Perform encryption of the password by getting the number of positions to shift an\n",
        "#alphabet. Print the encrypted and decrypted password.\n",
        "#PROGRAM CODE:\n",
        "def encrypt_text(text,s):\n",
        " result=\"\"\n",
        " for i in range(len(text)):\n",
        "  char=text[i]\n",
        " if (char.isupper()):\n",
        "  result+=chr((ord(char)+s-64)%26+65)\n",
        " else:\n",
        "  result+=chr((ord(char)+s-96)%26+97)\n",
        " return result\n",
        "text=\"Hello\"\n",
        "s=4\n",
        "print(\"plain text\",text)\n",
        "encrypted_text=encrypt_text(text,s)\n",
        "print(\"Encrypt Key:\",encrypt_text(text,s))\n",
        "def decrypt_text(text,s):\n",
        " result=\"\"\n",
        " for i in range(len(text)):\n",
        "  char=text[i]\n",
        " if (char.isupper()):\n",
        "  result+=chr((ord(char)-s-66)%26+65)\n",
        " else:\n",
        "  result+=chr((ord(char)-s-98)%26+97)\n",
        " return result\n",
        "\n",
        "text=\"MNYMJWJ\"\n",
        "s=4\n",
        "print(\"plain text\",text)\n",
        "decrypted_text=decrypt_text(text,s)\n",
        "print(\"Decrypt Key:\",decrypt_text(text,s))\n"
      ],
      "metadata": {
        "colab": {
          "base_uri": "https://localhost:8080/"
        },
        "id": "1F-8b99lMhHB",
        "outputId": "5161f351-7e4c-469f-b25f-58e66afc5a46"
      },
      "execution_count": 11,
      "outputs": [
        {
          "output_type": "stream",
          "name": "stdout",
          "text": [
            "plain text Hello\n",
            "Encrypt Key: t\n",
            "plain text MNYMJWJ\n",
            "Decrypt Key: E\n"
          ]
        }
      ]
    },
    {
      "cell_type": "code",
      "source": [],
      "metadata": {
        "id": "cEew2pmHNgio"
      },
      "execution_count": null,
      "outputs": []
    }
  ]
}