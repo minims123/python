{
  "nbformat": 4,
  "nbformat_minor": 0,
  "metadata": {
    "colab": {
      "provenance": []
    },
    "kernelspec": {
      "name": "python3",
      "display_name": "Python 3"
    },
    "language_info": {
      "name": "python"
    }
  },
  "cells": [
    {
      "cell_type": "code",
      "execution_count": 6,
      "metadata": {
        "colab": {
          "base_uri": "https://localhost:8080/"
        },
        "id": "-O43af4MIAjk",
        "outputId": "134b7c3a-9cc2-4179-de08-ded0ca290990"
      },
      "outputs": [
        {
          "output_type": "stream",
          "name": "stdout",
          "text": [
            "ENTER THE FIRST NUMBER : 45\n",
            "ENTER THE SECOND NUMBER : 45\n",
            "ENTER 1 TO ADDITION : \n",
            "ENTER 2 TO SUBTRACTION : \n",
            "ENTER 3 TO MULTIPLICATION : \n",
            "ENTER 4 TO DIVISION : \n",
            "ENTER 5 TO MODULO : \n",
            "ENTER 0 TO EXIT : \n",
            "Enter the Choice : 1\n",
            "45 + 45 = 90\n",
            "Enter the Choice : 3\n",
            "45 * 45 = 2025\n",
            "Enter the Choice : 2\n",
            "45 - 45 = 0\n",
            "Enter the Choice : 4\n",
            "45 / 45 = 1.0\n",
            "Enter the Choice : 5\n",
            "45 // 45 = 1\n",
            "Enter the Choice : 6\n",
            "EXIT\n"
          ]
        }
      ],
      "source": [
        "#1. A. Create a simple calculator with the functionalities specified below\n",
        "#i) Perform Addition, Subtraction, Multiplication, Division and modulo operation when the user provides a valid input of numbers, if not display invalid.\n",
        "#ii) The above program must be created with the menu driven approach by requesting the nature of functions to be performed as input from the user\n",
        "#iii) Repeat the process until the user type 0 to exit.\n",
        "\n",
        "\n",
        "\n",
        "def addition(a,b):\n",
        " return a+b\n",
        "def subtraction(a,b):\n",
        " return a-b\n",
        "def multiplication(a,b):\n",
        " return a*b\n",
        "def division(a,b):\n",
        " return a/b\n",
        "def modulo(a,b):\n",
        " return a//b\n",
        "a=int(input(\"ENTER THE FIRST NUMBER : \"))\n",
        "b=int(input(\"ENTER THE SECOND NUMBER : \"))\n",
        "print(\"ENTER 1 TO ADDITION : \")\n",
        "print(\"ENTER 2 TO SUBTRACTION : \")\n",
        "print(\"ENTER 3 TO MULTIPLICATION : \")\n",
        "print(\"ENTER 4 TO DIVISION : \")\n",
        "print(\"ENTER 5 TO MODULO : \")\n",
        "print(\"ENTER 0 TO EXIT : \")\n",
        "while True:\n",
        " choice =int(input(\"Enter the Choice : \"))\n",
        " if choice==1:\n",
        "  print(a,\"+\",b,\"=\",addition(a,b))\n",
        " elif choice==2:\n",
        "  print(a,\"-\",b,\"=\",subtraction(a,b))\n",
        " elif choice==3:\n",
        "  print(a,\"*\",b,\"=\",multiplication(a,b))\n",
        " elif choice==4:\n",
        "  print(a,\"/\",b,\"=\",division(a,b))\n",
        " elif choice==5:\n",
        "  print(a,\"//\",b,\"=\",modulo(a,b))\n",
        " elif choice==6:\n",
        "  print(\"EXIT\")\n",
        "  break\n",
        " else:\n",
        "  print(\"INVALID\")"
      ]
    },
    {
      "cell_type": "code",
      "source": [
        "#B.PROGRAM CODE:\n",
        "print(\"Monthly Budget\")\n",
        "Income = float(input(\"Enter your monthly Income :\"))\n",
        "print(\"Total income : \",str(Income))\n",
        "print(\"Montly Expense\")\n",
        "def expenses():\n",
        " Rent = float(input(\"Enter your monthly Rent expenses : \"))\n",
        " Food = float(input(\"Enter your food expense per mealtime : \"))\n",
        " Food_tot= (Food*3)*30\n",
        " print(Food_tot)\n",
        " Entertainment = float(input(\"Enter your monthly Entertainment expenses : \"))\n",
        " Unforeseen_Expenses = float(input(\"Enter your monthly Unforeseen expenses : \"))\n",
        "\n",
        " total_expenses = Rent + Food_tot + Entertainment + Unforeseen_Expenses\n",
        " return total_expenses\n",
        "expense_total = expenses()\n",
        "print(\"Total expenses in Rupees Rs.\" +str(expense_total))\n",
        "print(\"Total expenses in Dollar $\" +str(expense_total/80))\n",
        "4\n",
        "savings = Income-expense_total\n",
        "if savings >=0:\n",
        " print(\"Amount transferred to Bank Account:\" +str(savings))\n",
        "else:\n",
        " print(\"No Savings\" +str(savings) +'negative')"
      ],
      "metadata": {
        "colab": {
          "base_uri": "https://localhost:8080/"
        },
        "id": "Ix6TciGjIUZp",
        "outputId": "7b090b25-295f-4fd5-d3ac-425ce480d292"
      },
      "execution_count": 7,
      "outputs": [
        {
          "output_type": "stream",
          "name": "stdout",
          "text": [
            "Monthly Budget\n",
            "Enter your monthly Income :60000\n",
            "Total income :  60000.0\n",
            "Montly Expense\n",
            "Enter your monthly Rent expenses : 35000\n",
            "Enter your food expense per mealtime : 80\n",
            "7200.0\n",
            "Enter your monthly Entertainment expenses : 600\n",
            "Enter your monthly Unforeseen expenses : 2500\n",
            "Total expenses in Rupees Rs.45300.0\n",
            "Total expenses in Dollar $566.25\n",
            "Amount transferred to Bank Account:14700.0\n"
          ]
        }
      ]
    },
    {
      "cell_type": "code",
      "source": [
        "#C. A shop charges Rs. 60 per kg of apple and Rs. 70 per kg of orange. The shop offers  a\n",
        "#discount when a customer buys both apple and orange of 1kg each and charges\n",
        "#Rs. 80 for every 2 Kgs of apple and Rs. 120 for every 2 Kgs of Orange. Write a program\n",
        "#to compute the total amount that a customer must pay, given the number of kgs of\n",
        "#apple and/or orange\n",
        "#Input: The sequence of inputs should be the number of kgs of apple followed by\n",
        "#number of kgs of orange\n",
        "#Output: The total amount to be paid by the customer, rounded off to 2 decimal places.\n",
        "#PROGRAM CODE:\n",
        "apple=60\n",
        "apple_kg = int(input(\"Enter apple kgs: \"))\n",
        "orange=70\n",
        "orange_kg = int(input(\"Enter orange kgs: \"))\n",
        "discount=0.10\n",
        "if (apple_kg>=2 or orange_kg>=2):\n",
        " x=apple_kg/2\n",
        " y=apple_kg%2\n",
        " price_apple=(x*80+y*60)\n",
        " p=orange_kg/2\n",
        " s=orange_kg%2\n",
        " price_orange=(p*120+s*70)\n",
        " print(\"Total price of apple RS:\",round(price_apple,2))\n",
        " print(\"The price of orange RS:\",round(price_orange,2))\n",
        "else:\n",
        " apple_price=apple_kg*60*0.10\n",
        " orange_price=orange_kg*70*0.1\n",
        " print(\"the price of apple RS:\",round(apple_price),2)\n",
        " print(\"The price of orange RS:\",round(orange_price),2)\n"
      ],
      "metadata": {
        "colab": {
          "base_uri": "https://localhost:8080/"
        },
        "id": "5xBDUSpKLE0l",
        "outputId": "d8ddcc0a-4f0b-4d74-aa7e-20bf3bf1df3e"
      },
      "execution_count": 8,
      "outputs": [
        {
          "output_type": "stream",
          "name": "stdout",
          "text": [
            "Enter apple kgs: 3\n",
            "Enter orange kgs: 3\n",
            "Total price of apple RS: 180.0\n",
            "The price of orange RS: 250.0\n"
          ]
        }
      ]
    },
    {
      "cell_type": "code",
      "source": [
        "#B. Perform encryption of the password by getting the number of positions to shift an\n",
        "#alphabet. Print the encrypted and decrypted password.\n",
        "#PROGRAM CODE:\n",
        "def encrypt_text(text,s):\n",
        " result=\"\"\n",
        " for i in range(len(text)):\n",
        "  char=text[i]\n",
        " if (char.isupper()):\n",
        "  result+=chr((ord(char)+s-64)%26+65)\n",
        " else:\n",
        "  result+=chr((ord(char)+s-96)%26+97)\n",
        " return result\n",
        "text=\"Hello\"\n",
        "s=4\n",
        "print(\"plain text\",text)\n",
        "encrypted_text=encrypt_text(text,s)\n",
        "print(\"Encrypt Key:\",encrypt_text(text,s))\n",
        "def decrypt_text(text,s):\n",
        " result=\"\"\n",
        " for i in range(len(text)):\n",
        "  char=text[i]\n",
        " if (char.isupper()):\n",
        "  result+=chr((ord(char)-s-66)%26+65)\n",
        " else:\n",
        "  result+=chr((ord(char)-s-98)%26+97)\n",
        " return result\n",
        "\n",
        "text=\"MNYMJWJ\"\n",
        "s=4\n",
        "print(\"plain text\",text)\n",
        "decrypted_text=decrypt_text(text,s)\n",
        "print(\"Decrypt Key:\",decrypt_text(text,s))\n"
      ],
      "metadata": {
        "colab": {
          "base_uri": "https://localhost:8080/"
        },
        "id": "1F-8b99lMhHB",
        "outputId": "5161f351-7e4c-469f-b25f-58e66afc5a46"
      },
      "execution_count": 11,
      "outputs": [
        {
          "output_type": "stream",
          "name": "stdout",
          "text": [
            "plain text Hello\n",
            "Encrypt Key: t\n",
            "plain text MNYMJWJ\n",
            "Decrypt Key: E\n"
          ]
        }
      ]
    },
    {
      "cell_type": "code",
      "source": [
        "#C. Write a program to get a 12-character input from a user and check if the input\n",
        "#contains only alphabets; take the second, fourth and tenth characters, convert them to\n",
        "#uppercase, and display the result. If the input contains numbers or contains less than\n",
        "#12 characters, display ”Invalid input”\n",
        "#PROGRAM CODE:\n",
        "string=input(\"Enter the String : \")\n",
        "result=\"\"\n",
        "j=0\n",
        "if len(string)==12:\n",
        " for i in string:\n",
        "  k=string[j]\n",
        " if j==1 or j==3 or j==9:\n",
        "  k=k.upper()\n",
        "  result=result+k\n",
        " else:\n",
        "  result=result+k\n",
        "  j=j+1\n",
        "  print(result)\n",
        "else:\n",
        " print(\"Invalid\")"
      ],
      "metadata": {
        "colab": {
          "base_uri": "https://localhost:8080/"
        },
        "id": "cEew2pmHNgio",
        "outputId": "839f7054-0883-446f-ac99-3ba19b46d146"
      },
      "execution_count": 17,
      "outputs": [
        {
          "output_type": "stream",
          "name": "stdout",
          "text": [
            "Enter the String : rizwanabegum\n",
            "r\n"
          ]
        }
      ]
    },
    {
      "cell_type": "code",
      "source": [
        "list1=[\"Sunflower\",\"Daisy\",\"Rose\",\"Jasmine\"]\n",
        "list2=[\"Lotus\",\"Sunflower\",\"Lilly\",\"Rose\"]\n",
        "a=set(list1).intersection(set(list2))\n",
        "b=set(list1).symmetric_difference(set(list2))\n",
        "print(list1)\n",
        "print(list2)\n",
        "print(a)\n",
        "print(b)"
      ],
      "metadata": {
        "colab": {
          "base_uri": "https://localhost:8080/"
        },
        "id": "ttjXIVKLQakC",
        "outputId": "e31288e6-f475-4fe8-c2f1-c7b8415cc08a"
      },
      "execution_count": 18,
      "outputs": [
        {
          "output_type": "stream",
          "name": "stdout",
          "text": [
            "['Sunflower', 'Daisy', 'Rose', 'Jasmine']\n",
            "['Lotus', 'Sunflower', 'Lilly', 'Rose']\n",
            "{'Sunflower', 'Rose'}\n",
            "{'Daisy', 'Lilly', 'Jasmine', 'Lotus'}\n"
          ]
        }
      ]
    },
    {
      "cell_type": "code",
      "source": [
        "# Write a program to iterate the first 10 numbers and in each iteration, print the sum of the current and previous number.\n",
        "#PROGRAM CODE:\n",
        "print(\"Sum of current and previous Number in Range of 10\")\n",
        "previous_num = 0\n",
        "for i in range(1, 11):\n",
        "    x_sum = previous_num + i\n",
        "    print(\"Current Number\", i, \"Previous Number \", previous_num, \" Sum: \", previous_num + i)\n",
        "    previous_num = i\n"
      ],
      "metadata": {
        "colab": {
          "base_uri": "https://localhost:8080/"
        },
        "id": "CapTUbXeRQTU",
        "outputId": "a9fc9dff-9efd-4415-f93f-99b754431719"
      },
      "execution_count": 19,
      "outputs": [
        {
          "output_type": "stream",
          "name": "stdout",
          "text": [
            "Sum of current and previous Number in Range of 10\n",
            "Current Number 1 Previous Number  0  Sum:  1\n",
            "Current Number 2 Previous Number  1  Sum:  3\n",
            "Current Number 3 Previous Number  2  Sum:  5\n",
            "Current Number 4 Previous Number  3  Sum:  7\n",
            "Current Number 5 Previous Number  4  Sum:  9\n",
            "Current Number 6 Previous Number  5  Sum:  11\n",
            "Current Number 7 Previous Number  6  Sum:  13\n",
            "Current Number 8 Previous Number  7  Sum:  15\n",
            "Current Number 9 Previous Number  8  Sum:  17\n",
            "Current Number 10 Previous Number  9  Sum:  19\n"
          ]
        }
      ]
    },
    {
      "cell_type": "code",
      "source": [
        "#Find the sum of the series upto n terms\n",
        "#Write a program to calculate the sum of series up to n term. For example, if n =5 the series will become 2 + 22 + 222 + 2222 + 22222 = 24690\n",
        "#PROGRAM CODE:\n",
        "number_of_terms = 5\n",
        "sum1=0\n",
        "for i in range (1, number_of_terms + 1):\n",
        "    sum1 += int('2' * i)\n",
        "print(sum1)\n"
      ],
      "metadata": {
        "colab": {
          "base_uri": "https://localhost:8080/"
        },
        "id": "z4eoK70PR3Sk",
        "outputId": "8513ddd3-9ff5-4360-90fc-eba4bb9653cc"
      },
      "execution_count": 20,
      "outputs": [
        {
          "output_type": "stream",
          "name": "stdout",
          "text": [
            "24690\n"
          ]
        }
      ]
    },
    {
      "cell_type": "code",
      "source": [
        "#4. Write a program to print the following start pattern using the for loop\n",
        "#PROGRAM CODE:\n",
        "n = 4\n",
        "for i in range(n):\n",
        "    for j in range(i + 1):\n",
        "        print('*',end=\"\")\n",
        "    print()\n",
        "for i in range(n):\n",
        "    for j in range(n - i - 1):\n",
        "        print('*',end=\"\")\n",
        "    print()\n"
      ],
      "metadata": {
        "colab": {
          "base_uri": "https://localhost:8080/"
        },
        "id": "oUEBYYqLSC5I",
        "outputId": "d824fef9-cb7b-4e50-8a9d-ecb08df614a0"
      },
      "execution_count": 23,
      "outputs": [
        {
          "output_type": "stream",
          "name": "stdout",
          "text": [
            "*\n",
            "**\n",
            "***\n",
            "****\n",
            "***\n",
            "**\n",
            "*\n",
            "\n"
          ]
        }
      ]
    },
    {
      "cell_type": "code",
      "source": [
        "#1.Problem Statement: We need to store details of multiple students in an array\n",
        "#of objects. And then print the students&#39; results. Problem Description: We\n",
        "#will take the students&#39; details, (roll number, name,marks in physics,\n",
        "#chemistry and maths) from users for multiple students as required by users.\n",
        "#And the print the result that displays student&#39;s rollnumber,name and\n",
        "#percentage ( sum of all marks / 300 * 100).\n",
        "#SOURCE CODE:\n",
        "\n",
        "class Student:\n",
        " marks = []\n",
        " def getData(self, rn, name, m1, m2, m3):\n",
        "  Student.rn = rn\n",
        "  Student.name = name\n",
        "  Student.marks.append(m1)\n",
        "  Student.marks.append(m2)\n",
        "  Student.marks.append(m3)\n",
        "\n",
        " def displayData(self):\n",
        "  print (\"Roll Number is: \", Student.rn)\n",
        "  print (\"Name is: \", Student.name)\n",
        " #print (\"Marks in subject 1: \", Student.marks[0])\n",
        " #print (\"Marks in subject 2: \", Student.marks[1])\n",
        " #print (\"Marks in subject 3: \", Student.marks[2])\n",
        "  print (\"Marks are: \", Student.marks)\n",
        "  print (\"Total Marks are: \", self.total())\n",
        "  print (\"Average Marks are: \", self.average())\n",
        "\n",
        " def total(self):\n",
        "  return (Student.marks[0] + Student.marks[1] +Student.marks[2])\n",
        "\n",
        " def average(self):\n",
        "  return ((Student.marks[0] + Student.marks[1] +Student.marks[2])/3)\n",
        "\n",
        "r = int (input(\"Enter the roll number: \"))\n",
        "name = input(\"Enter the name: \")\n",
        "m1 = int (input(\"Enter the marks in the first subject: \"))\n",
        "m2 = int (input(\"Enter the marks in the second subject: \"))\n",
        "m3 = int (input(\"Enter the marks in the third subject: \"))\n",
        "s1 = Student()\n",
        "s1.getData(r, name, m1, m2, m3)\n",
        "s1.displayData()"
      ],
      "metadata": {
        "colab": {
          "base_uri": "https://localhost:8080/"
        },
        "id": "Ey8vu90eSQAu",
        "outputId": "0684709c-f211-4358-cc6e-7d7e1f2bdbc3"
      },
      "execution_count": 26,
      "outputs": [
        {
          "output_type": "stream",
          "name": "stdout",
          "text": [
            "Enter the roll number: 12\n",
            "Enter the name: sri\n",
            "Enter the marks in the first subject: 56\n",
            "Enter the marks in the second subject: 89\n",
            "Enter the marks in the third subject: 92\n",
            "Roll Number is:  12\n",
            "Name is:  sri\n",
            "Marks are:  [56, 89, 92]\n",
            "Total Marks are:  237\n",
            "Average Marks are:  79.0\n"
          ]
        }
      ]
    },
    {
      "cell_type": "code",
      "source": [
        "#(1)As a python programmer your task is to implement an error free code and\n",
        "#prevent the abnormal termination of the programmer. Consider the task given to\n",
        "#you was to develop a banking application. The program accepts the number of\n",
        "#customers we need to add and adds the customer and account details\n",
        "#accordingly. Further, it displays the series of menus to operate over the\n",
        "#accounts.\n",
        "#The series of menus displayed are as follows:\n",
        "#A. Display all account details\n",
        "#B. Search by account number\n",
        "#C. Deposit the amount\n",
        "#D. Withdraw the amount\n",
        "#E. Exit\n",
        "#CODE:\n",
        "\n",
        "import pickle\n",
        "import os\n",
        "import pathlib\n",
        "class Account :\n",
        " accNo = 0\n",
        " name = ''\n",
        " deposit=0\n",
        " type = ''\n",
        " def createAccount(self):\n",
        "  self.accNo= int(input(\"Enter the account no : \"))\n",
        "  self.name = input(\"Enter the account holder name : \")\n",
        "  self.type = input(\"Enter the type of account [C/S] : \")\n",
        "  self.deposit = int(input(\"Enter The Initial amount(>=5000 for Saving)for current\"))\n",
        "  print(\"\\n\\nAccount Created\")\n",
        " def showAccount(self):\n",
        "  print(\"Account Number : \",self.accNo)\n",
        "  print(\"Account Holder Name : \", self.name)\n",
        "  print(\"Type of Account\",self.type)\n",
        "  print(\"Balance : \",self.deposit)\n",
        " def depositAmount(self,amount):\n",
        "  self.deposit += amount\n",
        " def withdrawAmount(self,amount):\n",
        "  self.deposit -= amount\n",
        "def writeAccount():\n",
        "  account = Account()\n",
        "  account.createAccount()\n",
        "  writeAccountsFile(account)\n",
        "def displayAll():\n",
        "  file = pathlib.Path(\"accounts.data\")\n",
        " if file.exists ():\n",
        "  infile = open('accounts.data','rb')\n",
        "  mylist = pickle.load(infile)\n",
        " for item in mylist :\n",
        "  print(item.accNo,\" \", item.name, \" \",item.type, \" \",item.deposit )\n",
        "  infile.close()\n",
        " else :\n",
        "  print(\"No records to display\")\n",
        "def displaySearch(num):\n",
        "  file = pathlib.Path(\"accounts.data\")\n",
        " if file.exists ():\n",
        "  infile = open('accounts.data','rb')\n",
        "  mylist = pickle.load(infile)\n",
        "  infile.close()\n",
        "  found = False\n",
        " for item in mylist :\n",
        " if item.accNo == num :\n",
        "  print(\"Your account Balance is = \",item.deposit)\n",
        "  print(item.accNo,\" \", item.name, \" \",item.type, \" \",item.deposit )\n",
        "  found = True\n",
        " else :\n",
        "  print(\"No records to Search\")\n",
        " if not found :\n",
        "  print(\"No existing record with this number\")\n",
        "def depositAndWithdraw(num1,num2):\n",
        " file = pathlib.Path(\"accounts.data\")\n",
        " if file.exists ():\n",
        "  infile = open('accounts.data','rb')\n",
        "  mylist = pickle.load(infile)\n",
        "  infile.close()\n",
        "  os.remove('accounts.data')\n",
        " for item in mylist :\n",
        "  if item.accNo == num1 :\n",
        "   if num2 == 1 :\n",
        "  amount = int(input(\"Enter the amount to deposit : \"))\n",
        "  item.deposit += amount\n",
        " if(item.deposit>=5000):\n",
        "  print(\"Your account is updted\")\n",
        " else:\n",
        "  print(\"Insufficient Ammount. Balance must be greater than 5000\")\n",
        "  print(\"Current Balance : \" ,item.deposit)\n",
        " elif num2 == 2 :\n",
        "  amount = int(input(\"Enter the amount to withdraw : \"))\n",
        " if amount <= item.deposit :\n",
        "  balance= item.deposit-amount\n",
        " if(balance<5000):\n",
        "  print(\"You cannot money\")\n",
        "  print(\"Balance must be greater than 5000\")\n",
        "  print(\"Current Balance : \",item.deposit)\n",
        " else:\n",
        "  item.deposit-=amount\n",
        "  print(\"Your account is updted\")\n",
        " else :\n",
        "  print(\"You cannot withdraw larger amount\")\n",
        "  print(\"Current Balance : \", item.deposit)\n",
        " else :\n",
        "  print(\"No records to Search\")\n",
        "  outfile = open('newaccounts.data','wb')\n",
        "  pickle.dump(mylist, outfile)\n",
        "  outfile.close()\n",
        "  os.rename('newaccounts.data', 'accounts.data')\n",
        "def writeAccountsFile(account) :\n",
        " file = pathlib.Path(\"accounts.data\")\n",
        " if file.exists ():\n",
        "  infile = open('accounts.data','rb')\n",
        "  oldlist = pickle.load(infile)\n",
        "  oldlist.append(account)\n",
        "  infile.close()\n",
        "  os.remove('accounts.data')\n",
        " else :\n",
        "  oldlist = [account]\n",
        "  outfile = open('newaccounts.data','wb')\n",
        "  pickle.dump(oldlist, outfile)\n",
        "  outfile.close()\n",
        "  os.rename('newaccounts.data', 'accounts.data')\n",
        " ch=''\n",
        " num=0\n",
        " numberOfCustomer=int(input(\"How many customer you want to add : \"))\n",
        "for i in range(numberOfCustomer):\n",
        " writeAccount()\n",
        "while ch != 8:\n",
        " print(\"\\n\\tMAIN MENU\")\n",
        " print(\"\\t1. NEW ACCOUNT\")\n",
        " print(\"\\t2. DISPLAY ALL THE ACCOUNT DETAILS\")\n",
        " print(\"\\t3. SEARCH BY ACCOUNT NUMBER\")\n",
        " print(\"\\t4. DEPOSIT AMOUNT\")\n",
        " print(\"\\t5. WITHDRAW AMOUNT\")\n",
        " print(\"\\t6. EXIT\")\n",
        " print(\"\\tSelect Your Option (1-6) \")\n",
        " ch = input()\n",
        " if ch == '1':\n",
        "  writeAccount()\n",
        " elif ch =='2':\n",
        "  displayAll();\n",
        " elif ch == '3':\n",
        "  num = int(input(\"\\tEnter The account No. : \"))\n",
        "  displaySearch(num)\n",
        " elif ch == '4':\n",
        "  num = int(input(\"\\tEnter The account No. : \"))\n",
        "  depositAndWithdraw(num, 1)\n",
        " elif ch == '5':\n",
        "  num = int(input(\"\\tEnter The account No. : \"))\n",
        "  depositAndWithdraw(num, 2)\n",
        " elif ch == '6':\n",
        "  print(\"\\tThanks for using bank managemnt system\")\n",
        "  break\n",
        " else :\n",
        "  print(\"Invalid choice\")"
      ],
      "metadata": {
        "colab": {
          "base_uri": "https://localhost:8080/",
          "height": 106
        },
        "id": "GBpE9gd3S1M4",
        "outputId": "1c04f120-1727-45ef-8142-3d5fa0d22729"
      },
      "execution_count": 33,
      "outputs": [
        {
          "output_type": "error",
          "ename": "IndentationError",
          "evalue": "unindent does not match any outer indentation level (<tokenize>, line 44)",
          "traceback": [
            "\u001b[0;36m  File \u001b[0;32m\"<tokenize>\"\u001b[0;36m, line \u001b[0;32m44\u001b[0m\n\u001b[0;31m    if file.exists ():\u001b[0m\n\u001b[0m    ^\u001b[0m\n\u001b[0;31mIndentationError\u001b[0m\u001b[0;31m:\u001b[0m unindent does not match any outer indentation level\n"
          ]
        }
      ]
    },
    {
      "cell_type": "code",
      "source": [],
      "metadata": {
        "id": "SwU2k3tdUwd8"
      },
      "execution_count": null,
      "outputs": []
    }
  ]
}