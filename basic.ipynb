{
  "nbformat": 4,
  "nbformat_minor": 0,
  "metadata": {
    "colab": {
      "provenance": []
    },
    "kernelspec": {
      "name": "python3",
      "display_name": "Python 3"
    },
    "language_info": {
      "name": "python"
    }
  },
  "cells": [
    {
      "cell_type": "code",
      "execution_count": null,
      "metadata": {
        "colab": {
          "base_uri": "https://localhost:8080/"
        },
        "id": "QPfq8358lDlP",
        "outputId": "7bceb7f5-1d0f-4cab-a3a8-69ad31839e82"
      },
      "outputs": [
        {
          "output_type": "stream",
          "name": "stdout",
          "text": [
            "<class 'str'>\n",
            "<class 'int'>\n",
            "<class 'float'>\n"
          ]
        }
      ],
      "source": [
        "# Variables\n",
        "name = \"Alice\"\n",
        "age = 30\n",
        "height = 5.8\n",
        "\n",
        "# Data Types\n",
        "print(type(name))   # <class 'str'>\n",
        "print(type(age))    # <class 'int'>\n",
        "print(type(height)) # <class 'float'>\n"
      ]
    },
    {
      "cell_type": "code",
      "source": [
        "a = 10\n",
        "b = 5\n",
        "\n",
        "# Addition\n",
        "print(a + b)  # 15\n",
        "\n",
        "# Subtraction\n",
        "print(a - b)  # 5\n",
        "\n",
        "# Multiplication\n",
        "print(a * b)  # 50\n",
        "\n",
        "# Division\n",
        "print(a / b)  # 2.0\n",
        "\n",
        "# Exponentiation\n",
        "print(a ** b) # 100000\n"
      ],
      "metadata": {
        "colab": {
          "base_uri": "https://localhost:8080/"
        },
        "id": "k98amPFXlHvV",
        "outputId": "54d7a8e9-e560-494d-d4eb-1fbe8d843513"
      },
      "execution_count": null,
      "outputs": [
        {
          "output_type": "stream",
          "name": "stdout",
          "text": [
            "15\n",
            "5\n",
            "50\n",
            "2.0\n",
            "100000\n"
          ]
        }
      ]
    },
    {
      "cell_type": "code",
      "source": [
        "x = 10\n",
        "\n",
        "if x > 5:\n",
        "    print(\"x is greater than 5\")\n",
        "elif x == 5:\n",
        "    print(\"x is equal to 5\")\n",
        "else:\n",
        "    print(\"x is less than 5\")\n"
      ],
      "metadata": {
        "colab": {
          "base_uri": "https://localhost:8080/"
        },
        "id": "GdHqvkMGlUKt",
        "outputId": "722cf94a-16f5-4f2f-9d1a-25b89e901ca7"
      },
      "execution_count": null,
      "outputs": [
        {
          "output_type": "stream",
          "name": "stdout",
          "text": [
            "x is greater than 5\n"
          ]
        }
      ]
    },
    {
      "cell_type": "code",
      "source": [
        "# For loop\n",
        "for i in range(5):\n",
        "    print(i) # prints 0 to 4\n",
        "\n",
        "# While loop\n",
        "count = 0\n",
        "while count < 5:\n",
        "    print(count)\n",
        "    count += 1\n"
      ],
      "metadata": {
        "colab": {
          "base_uri": "https://localhost:8080/"
        },
        "id": "8rx11xdxla9t",
        "outputId": "4f2b154f-492d-4471-ee0d-ec4f99ccc089"
      },
      "execution_count": null,
      "outputs": [
        {
          "output_type": "stream",
          "name": "stdout",
          "text": [
            "0\n",
            "1\n",
            "2\n",
            "3\n",
            "4\n",
            "0\n",
            "1\n",
            "2\n",
            "3\n",
            "4\n"
          ]
        }
      ]
    },
    {
      "cell_type": "code",
      "source": [
        "my_list = [1, 2, 3, 4, 5]\n",
        "\n",
        "# Accessing elements\n",
        "print(my_list[0])   # 1\n",
        "\n",
        "# Slicing\n",
        "print(my_list[1:3]) # [2, 3]\n",
        "\n",
        "# Modifying elements\n",
        "my_list[2] = 10\n",
        "print(my_list)      # [1, 2, 10, 4, 5]\n",
        "\n",
        "# Appending elements\n",
        "my_list.append(6)\n",
        "print(my_list)      # [1, 2, 10, 4, 5, 6]\n"
      ],
      "metadata": {
        "colab": {
          "base_uri": "https://localhost:8080/"
        },
        "id": "LVLlZkVsliua",
        "outputId": "81878dda-9b13-45cb-ee11-8e2b0cfb07c4"
      },
      "execution_count": null,
      "outputs": [
        {
          "output_type": "stream",
          "name": "stdout",
          "text": [
            "1\n",
            "[2, 3]\n",
            "[1, 2, 10, 4, 5]\n",
            "[1, 2, 10, 4, 5, 6]\n"
          ]
        }
      ]
    },
    {
      "cell_type": "code",
      "source": [
        "my_list = [1, 2, 3, 4, 5]\n",
        "\n",
        "# Removing by value\n",
        "my_list.remove(3)\n",
        "print(my_list)  # [1, 2, 4, 5]\n",
        "\n",
        "# Removing by index\n",
        "del my_list[2]\n",
        "print(my_list)  # [1, 2, 5]\n",
        "\n",
        "# Removing the last element\n",
        "my_list.pop()\n",
        "print(my_list)  # [1, 2]\n"
      ],
      "metadata": {
        "id": "CxccPDnXlmjA",
        "colab": {
          "base_uri": "https://localhost:8080/"
        },
        "outputId": "78bd7d4f-24e2-4d1b-812c-c8389f30b273"
      },
      "execution_count": 1,
      "outputs": [
        {
          "output_type": "stream",
          "name": "stdout",
          "text": [
            "[1, 2, 4, 5]\n",
            "[1, 2, 5]\n",
            "[1, 2]\n"
          ]
        }
      ]
    },
    {
      "cell_type": "code",
      "source": [
        "# Adding at the end\n",
        "my_list.append(6)\n",
        "print(my_list)  # [1, 2, 6]\n",
        "\n",
        "# Adding at a specific position\n",
        "my_list.insert(2, 3)\n",
        "print(my_list)  # [1, 2, 3, 6]\n",
        "\n",
        "# Adding multiple elements\n",
        "my_list.extend([4, 5])\n",
        "print(my_list)  # [1, 2, 3, 6, 4, 5]\n"
      ],
      "metadata": {
        "colab": {
          "base_uri": "https://localhost:8080/"
        },
        "id": "vtIeyqSWo11H",
        "outputId": "36e38a85-fde7-4c40-bc7d-b424d7471d31"
      },
      "execution_count": 2,
      "outputs": [
        {
          "output_type": "stream",
          "name": "stdout",
          "text": [
            "[1, 2, 6]\n",
            "[1, 2, 3, 6]\n",
            "[1, 2, 3, 6, 4, 5]\n"
          ]
        }
      ]
    },
    {
      "cell_type": "code",
      "source": [
        "my_list = [1, 2, 3, 4, 5]\n",
        "reversed_list = my_list[::-1]\n",
        "print(\"Reversed list:\", reversed_list)\n"
      ],
      "metadata": {
        "colab": {
          "base_uri": "https://localhost:8080/"
        },
        "id": "2ZuMbJHSo9xi",
        "outputId": "7629b611-a65c-463a-fc8e-390c649f179a"
      },
      "execution_count": 3,
      "outputs": [
        {
          "output_type": "stream",
          "name": "stdout",
          "text": [
            "Reversed list: [5, 4, 3, 2, 1]\n"
          ]
        }
      ]
    },
    {
      "cell_type": "code",
      "source": [
        "my_list = [5, 2, 8, 3, 1]\n",
        "sorted_list = sorted(my_list)\n",
        "print(\"Sorted list:\", sorted_list)\n"
      ],
      "metadata": {
        "colab": {
          "base_uri": "https://localhost:8080/"
        },
        "id": "1Px0Y60RqwF6",
        "outputId": "8078361f-3138-4880-a8bf-96996b05b65f"
      },
      "execution_count": 4,
      "outputs": [
        {
          "output_type": "stream",
          "name": "stdout",
          "text": [
            "Sorted list: [1, 2, 3, 5, 8]\n"
          ]
        }
      ]
    },
    {
      "cell_type": "code",
      "source": [
        "my_tuple = (1, 2, 3, 1, 4, 1)\n",
        "element_to_count = 1\n",
        "count = my_tuple.count(element_to_count)\n",
        "print(\"Occurrences of {}: {}\".format(element_to_count, count))\n"
      ],
      "metadata": {
        "colab": {
          "base_uri": "https://localhost:8080/"
        },
        "id": "o7yn21zTq00L",
        "outputId": "f79892db-b022-4a1d-df23-390ab3af802f"
      },
      "execution_count": 5,
      "outputs": [
        {
          "output_type": "stream",
          "name": "stdout",
          "text": [
            "Occurrences of 1: 3\n"
          ]
        }
      ]
    },
    {
      "cell_type": "code",
      "source": [],
      "metadata": {
        "id": "MPDuZs7RrGRE"
      },
      "execution_count": null,
      "outputs": []
    }
  ]
}